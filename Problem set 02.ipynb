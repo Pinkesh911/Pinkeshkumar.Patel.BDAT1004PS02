{
 "cells": [
  {
   "cell_type": "markdown",
   "id": "5fceecf5",
   "metadata": {},
   "source": [
    "# Q1 \n",
    "What value is displayed when the last expression (a) is evaluated? Explain your\n",
    "answer by indicating what happens in every executed statement.\n",
    "\n",
    "\tThe value displayed is 6\n",
    "\tOn b() a is assiagned to value of c() which returns a + 2 therfore\n",
    "\t\t1st Statement a is assigned to 0 + 2\n",
    "\t\t2st Statement a is assigned to 2 + 2\n",
    "\t\t3rd Statement a is assigned to 4 + 2\n",
    "AND the output will be 6"
   ]
  },
  {
   "cell_type": "code",
   "execution_count": 206,
   "id": "292283f8",
   "metadata": {},
   "outputs": [
    {
     "data": {
      "text/plain": [
       "6"
      ]
     },
     "execution_count": 206,
     "metadata": {},
     "output_type": "execute_result"
    }
   ],
   "source": [
    "a = 0\n",
    "def b():\n",
    "    global a\n",
    "    a=c(a)\n",
    "    \n",
    "def c(a):\n",
    "    return a+2\n",
    "b()\n",
    "b()\n",
    "b()\n",
    "a"
   ]
  },
  {
   "cell_type": "markdown",
   "id": "abf0a6b0",
   "metadata": {},
   "source": [
    "# Q2.  \n",
    "Function fileLength(), given to you, takes the name of a file as input and returns\n",
    "the length of the file:"
   ]
  },
  {
   "cell_type": "code",
   "execution_count": 230,
   "id": "6b76d4b2",
   "metadata": {},
   "outputs": [
    {
     "name": "stdout",
     "output_type": "stream",
     "text": [
      "478\n"
     ]
    }
   ],
   "source": [
    "def f_Length(fname):\n",
    "    try:\n",
    "        file = open(fname)\n",
    "        contents = file.read()\n",
    "        file.close()\n",
    "        print(len(contents))\n",
    "    except:        \n",
    "            print(\"Please enter Valid file name\")\n",
    "            \n",
    "f_Length('midterm.py')       \n",
    "            "
   ]
  },
  {
   "cell_type": "code",
   "execution_count": 231,
   "id": "63b1ce39",
   "metadata": {},
   "outputs": [
    {
     "name": "stdout",
     "output_type": "stream",
     "text": [
      "Please enter Valid file name\n"
     ]
    }
   ],
   "source": [
    "f_Length('class.py')"
   ]
  },
  {
   "cell_type": "markdown",
   "id": "01d0c8c8",
   "metadata": {},
   "source": [
    "# Q3 \n",
    "Write a class named Marsupial "
   ]
  },
  {
   "cell_type": "code",
   "execution_count": 209,
   "id": "f54aa084",
   "metadata": {},
   "outputs": [
    {
     "name": "stdout",
     "output_type": "stream",
     "text": [
      "['doll', 'firetruck', 'kitten']\n"
     ]
    }
   ],
   "source": [
    "class Marsupial:\n",
    "    def __init__(Q3):\n",
    "        Q3.pouch = []\n",
    "\n",
    "    def put_in_pouch(Q3, val):\n",
    "        Q3.pouch.append(val)\n",
    "\n",
    "    def pouch_contents(Q3):\n",
    "        print(Q3.pouch)\n",
    "        \n",
    "m = Marsupial()\n",
    "m.put_in_pouch('doll')\n",
    "m.put_in_pouch('firetruck')\n",
    "m.put_in_pouch('kitten')\n",
    "m.pouch_contents()\n",
    "\n"
   ]
  },
  {
   "cell_type": "markdown",
   "id": "b3c28734",
   "metadata": {},
   "source": [
    "# Q3  a, b, c\n",
    "a,     extends the Marsupial __init__ constructor to take, as input, the\n",
    "coordinates x and y of the Kangaroo object,\n",
    "\n",
    "b,    supports method jump that takes number values dx and dy as input and\n",
    "moves the kangaroo by dx units along the x-axis and by dy units along the yaxis,\n",
    "\n",
    "c,   overloads the __str__ operator\n"
   ]
  },
  {
   "cell_type": "code",
   "execution_count": 210,
   "id": "6b3e008f",
   "metadata": {},
   "outputs": [
    {
     "name": "stdout",
     "output_type": "stream",
     "text": [
      "I am a Kangaroo located at coordinates (0,0)\n"
     ]
    }
   ],
   "source": [
    "class Kangaroo(Marsupial):\n",
    "    def __init__(Q3, x, y):\n",
    "        Q3.pouch = []\n",
    "        Q3.x = x\n",
    "        Q3.y = y\n",
    "\n",
    "    def jump(Q3, dx, dy):\n",
    "        Q3.x = Q3.x + dx\n",
    "        Q3.y = Q3.y + dy\n",
    "\n",
    "    def __str__(Q3):\n",
    "        return \"I am a Kangaroo located at coordinates (\" + str(Q3.x) + \",\" + str(Q3.y) + \")\"\n",
    "\n",
    "k = Kangaroo(0,0)\n",
    "print(k)\n",
    "\n"
   ]
  },
  {
   "cell_type": "code",
   "execution_count": 211,
   "id": "022faebd",
   "metadata": {},
   "outputs": [
    {
     "name": "stdout",
     "output_type": "stream",
     "text": [
      "['doll', 'firetruck', 'kitten']\n"
     ]
    }
   ],
   "source": [
    "k.put_in_pouch('doll')\n",
    "k.put_in_pouch('firetruck')\n",
    "k.put_in_pouch('kitten')\n",
    "k.pouch_contents()"
   ]
  },
  {
   "cell_type": "code",
   "execution_count": 212,
   "id": "93d2a607",
   "metadata": {},
   "outputs": [
    {
     "name": "stdout",
     "output_type": "stream",
     "text": [
      "I am a Kangaroo located at coordinates (3,0)\n"
     ]
    }
   ],
   "source": [
    "k.jump(1,0)\n",
    "k.jump(1,0)\n",
    "k.jump(1,0)\n",
    "\n",
    "print(k)"
   ]
  },
  {
   "cell_type": "markdown",
   "id": "2a099841",
   "metadata": {},
   "source": [
    "# Q4.\n",
    "Write function collatz() that takes a positive integer x as input and prints the\n",
    "Collatz sequence starting at x. A Collatz sequence is obtained by repeatedly applying\n",
    "this rule to the previous number x in the sequence:"
   ]
  },
  {
   "cell_type": "code",
   "execution_count": 213,
   "id": "85219cfa",
   "metadata": {},
   "outputs": [
    {
     "name": "stdout",
     "output_type": "stream",
     "text": [
      "1\n"
     ]
    }
   ],
   "source": [
    "def collatz(num):\n",
    "    num = int(num)\n",
    "    print(num)\n",
    "    if num == 1:\n",
    "        return\n",
    "    if num % 2 == 0:\n",
    "        collatz(num / 2)\n",
    "    else:\n",
    "        collatz(((3 * num) + 1))\n",
    "\n",
    "\n",
    "collatz(1)"
   ]
  },
  {
   "cell_type": "code",
   "execution_count": 214,
   "id": "282c923f",
   "metadata": {},
   "outputs": [
    {
     "name": "stdout",
     "output_type": "stream",
     "text": [
      "10\n",
      "5\n",
      "16\n",
      "8\n",
      "4\n",
      "2\n",
      "1\n"
     ]
    }
   ],
   "source": [
    "collatz(10)"
   ]
  },
  {
   "cell_type": "markdown",
   "id": "76100b06",
   "metadata": {},
   "source": [
    "# Q5. \n",
    "Write a recursive method binary() that takes a non-negative\n",
    "integer n and prints the binary representation of integer n."
   ]
  },
  {
   "cell_type": "code",
   "execution_count": 215,
   "id": "d78ea41c",
   "metadata": {},
   "outputs": [
    {
     "name": "stdout",
     "output_type": "stream",
     "text": [
      "0"
     ]
    }
   ],
   "source": [
    "def binary(n):\n",
    "    n = int(n)\n",
    "    if n < 2:\n",
    "        print(n, end=\"\"),\n",
    "    else:\n",
    "        binary(n / 2)\n",
    "        print(n % 2, end=\"\"),\n",
    "binary(0)"
   ]
  },
  {
   "cell_type": "code",
   "execution_count": 216,
   "id": "975437be",
   "metadata": {},
   "outputs": [
    {
     "name": "stdout",
     "output_type": "stream",
     "text": [
      "1"
     ]
    }
   ],
   "source": [
    "binary(1)"
   ]
  },
  {
   "cell_type": "code",
   "execution_count": 218,
   "id": "3a38fc19",
   "metadata": {},
   "outputs": [
    {
     "name": "stdout",
     "output_type": "stream",
     "text": [
      "11"
     ]
    }
   ],
   "source": [
    "binary(3)"
   ]
  },
  {
   "cell_type": "code",
   "execution_count": 219,
   "id": "919e2ae5",
   "metadata": {},
   "outputs": [
    {
     "name": "stdout",
     "output_type": "stream",
     "text": [
      "1001"
     ]
    }
   ],
   "source": [
    "binary(9)"
   ]
  },
  {
   "cell_type": "markdown",
   "id": "67d13850",
   "metadata": {},
   "source": [
    "# Q6. \n",
    "\n",
    "Implement a class named HeadingParser that can be used to parse an HTML\n",
    "document, and retrieve and print all the headings in the document. You should\n",
    "implement your class as a subclass of HTMLParser, defined in Standard Library\n",
    "module html.parser. When fed a string containing HTML code, your class should\n",
    "print the headings, one per line and in the order in which they appear in the\n",
    "document. Each heading should be indented as follows: an h1 heading should have\n",
    " indentation 0, and h2 heading should have indentation 1, etc. Test your\n",
    "implementation using w3c.html.\n"
   ]
  },
  {
   "cell_type": "code",
   "execution_count": 220,
   "id": "e787d86c",
   "metadata": {},
   "outputs": [],
   "source": [
    "from html.parser import HTMLParser"
   ]
  },
  {
   "cell_type": "code",
   "execution_count": 221,
   "id": "ec3b6a1a",
   "metadata": {},
   "outputs": [
    {
     "name": "stdout",
     "output_type": "stream",
     "text": [
      "W3C Mission\n",
      "\tPrinciples\n",
      "\t\tPinkesh\n"
     ]
    }
   ],
   "source": [
    "class HeadingParser(HTMLParser):\n",
    "    found = False\n",
    "    headings = [\"h1\", \"h2\", \"h3\", \"h4\", \"h5\", \"h6\"]\n",
    "    level = -1\n",
    "\n",
    "    def handle_starttag(self, tag, attrs): \n",
    "        if tag in self.headings: \n",
    "            self.found = True\n",
    "            self.level = self.headings.index(tag)\n",
    "\n",
    "    def handle_data(self, data):\n",
    "        if self.found:\n",
    "            print('\\t' * self.level + data)\n",
    "\n",
    "    def handle_endtag(self, tag): \n",
    "        if tag in self.headings:\n",
    "            self.found = False\n",
    "            \n",
    "infile = open('w3c.html')\n",
    "content = infile.read()\n",
    "infile.close()\n",
    "hp = HeadingParser()\n",
    "hp.feed(content)\n"
   ]
  },
  {
   "cell_type": "markdown",
   "id": "154c1a4d",
   "metadata": {},
   "source": [
    "# Q7. \n",
    "\n",
    "Implement recursive function webdir() that takes as input: a URL (as a string) and\n",
    "non-negative integers depth and indent. Your function should visit every web\n",
    "page reachable from the starting URL web page in depth clicks or less, and print\n",
    "each web page's URL. As shown below, indentation, specified by indent, should\n",
    "be used to indicate the depth of a URL"
   ]
  },
  {
   "cell_type": "code",
   "execution_count": 244,
   "id": "f44c705e",
   "metadata": {},
   "outputs": [],
   "source": [
    "from urllib.request import urlopen\n",
    "from urllib.parse import urljoin"
   ]
  },
  {
   "cell_type": "code",
   "execution_count": 247,
   "id": "3e42d067",
   "metadata": {},
   "outputs": [
    {
     "name": "stdout",
     "output_type": "stream",
     "text": [
      "http://reed.cs.depaul.edu/lperkovic/csc242\n",
      "\thttp://reed.cs.depaul.edu/lperkovic/csc242lecture1/\n",
      "\thttp://reed.cs.depaul.edu/lperkovic/csc242lecture2/\n",
      "\thttp://reed.cs.depaul.edu/lperkovic/csc242lecture3/\n"
     ]
    }
   ],
   "source": [
    "urls = []\n",
    "\n",
    "def webdir(url, depth, indent):\n",
    "    global site\n",
    "    urls.append(url)\n",
    "    print('\\t' * indent + url)\n",
    "    r = requests.get(url)\n",
    "    s = BeautifulSoup(r.text, \"html.parser\")\n",
    "\n",
    "    count = 0\n",
    "    for i in s.find_all(\"a\"):\n",
    "        if count == depth:\n",
    "            break\n",
    "        href = i.attrs['href']\n",
    "     \n",
    "\n",
    "        if href.count(\".\") == 0:\n",
    "            if href.count(\"/\") == 1:\n",
    "                site = url + href\n",
    "                if site not in urls:\n",
    "                    count = count + 1\n",
    "                    webdir(site, depth, indent + 1)\n",
    "webdir('http://reed.cs.depaul.edu/lperkovic/csc242', 3, 0)\n"
   ]
  },
  {
   "cell_type": "markdown",
   "id": "0c694b34",
   "metadata": {},
   "source": [
    "# Q8\n",
    "\n",
    "Write SQL queries on the below database table that "
   ]
  },
  {
   "cell_type": "code",
   "execution_count": 9,
   "id": "66751bca",
   "metadata": {},
   "outputs": [],
   "source": [
    "import sqlite3"
   ]
  },
  {
   "cell_type": "code",
   "execution_count": 10,
   "id": "effd5578",
   "metadata": {},
   "outputs": [
    {
     "data": {
      "text/plain": [
       "<sqlite3.Cursor at 0x27bcc8e0500>"
      ]
     },
     "execution_count": 10,
     "metadata": {},
     "output_type": "execute_result"
    }
   ],
   "source": [
    "con = sqlite3.connect('CityTBL.db')\n",
    "cur = con.cursor()\n",
    "cur.execute(\"CREATE TABLE IF NOT EXISTS CityTBL (City text, Country text, Season text, Temperature double, Rainfall double)\")\n",
    "cur.execute(\"INSERT INTO CityTBL VALUES ('Mumbai', 'India', 'Winter', 24.8, 5.9), ('Mumbai','India', 'Spring', 28.4, 16.2), ('Mumbai','India', 'Summer', 27.9, 1549.4), ('Mumbai','India', 'Fall', 27.6, 346.0)\")\n",
    "cur.execute(\"INSERT INTO CityTBL VALUES ('London', 'United Kindom', 'Winter', 4.2, 207.7), ('London', 'United Kindom', 'Spring', 8.3, 169.6), ('London', 'United Kindom', 'Summer', 15.7, 157.0), ('London', 'United Kindom', 'Fall', 10.4, 218.5)\")\n",
    "cur.execute(\"INSERT INTO CityTBL VALUES ('Cairo', 'Egypt', 'Winter', 13.6, 16.5), ('Cairo', 'Egypt', 'Spring', 20.7, 6.5), ('Cairo', 'Egypt', 'Summer', 27.7, 0.1), ('Cairo', 'Egypt', 'Fall', 22.2, 4.5)\")\n"
   ]
  },
  {
   "cell_type": "code",
   "execution_count": 24,
   "id": "f3e882d0",
   "metadata": {},
   "outputs": [
    {
     "data": {
      "text/plain": [
       "[('Mumbai', 'India', 'Winter', 24.8, 5.9),\n",
       " ('Mumbai', 'India', 'Spring', 28.4, 16.2),\n",
       " ('Mumbai', 'India', 'Summer', 27.9, 1549.4),\n",
       " ('Mumbai', 'India', 'Fall', 27.6, 346.0),\n",
       " ('London', 'United Kindom', 'Winter', 4.2, 207.7),\n",
       " ('London', 'United Kindom', 'Spring', 8.3, 169.6),\n",
       " ('London', 'United Kindom', 'Summer', 15.7, 157.0),\n",
       " ('London', 'United Kindom', 'Fall', 10.4, 218.5),\n",
       " ('Cairo', 'Egypt', 'Winter', 13.6, 16.5),\n",
       " ('Cairo', 'Egypt', 'Spring', 20.7, 6.5),\n",
       " ('Cairo', 'Egypt', 'Summer', 27.7, 0.1),\n",
       " ('Cairo', 'Egypt', 'Fall', 22.2, 4.5)]"
      ]
     },
     "execution_count": 24,
     "metadata": {},
     "output_type": "execute_result"
    }
   ],
   "source": [
    "cur.execute('SELECT * FROM CityTBL')\n",
    "cur.fetchall()\n"
   ]
  },
  {
   "cell_type": "markdown",
   "id": "58b942cd",
   "metadata": {},
   "source": [
    "a)   All the temperature data."
   ]
  },
  {
   "cell_type": "code",
   "execution_count": 11,
   "id": "90f9c72e",
   "metadata": {},
   "outputs": [
    {
     "data": {
      "text/plain": [
       "[(24.8,),\n",
       " (28.4,),\n",
       " (27.9,),\n",
       " (27.6,),\n",
       " (4.2,),\n",
       " (8.3,),\n",
       " (15.7,),\n",
       " (10.4,),\n",
       " (13.6,),\n",
       " (20.7,),\n",
       " (27.7,),\n",
       " (22.2,)]"
      ]
     },
     "execution_count": 11,
     "metadata": {},
     "output_type": "execute_result"
    }
   ],
   "source": [
    "cur.execute('SELECT Temperature FROM CityTBL')\n",
    "cur.fetchall()\n"
   ]
  },
  {
   "cell_type": "markdown",
   "id": "2b2faaef",
   "metadata": {},
   "source": [
    "b) All the cities, but without repetition."
   ]
  },
  {
   "cell_type": "code",
   "execution_count": 12,
   "id": "39094222",
   "metadata": {},
   "outputs": [
    {
     "data": {
      "text/plain": [
       "[('Mumbai',), ('London',), ('Cairo',)]"
      ]
     },
     "execution_count": 12,
     "metadata": {},
     "output_type": "execute_result"
    }
   ],
   "source": [
    "cur.execute('SELECT DISTINCT(City) FROM CityTBL')\n",
    "cur.fetchall()"
   ]
  },
  {
   "cell_type": "markdown",
   "id": "d4090ea2",
   "metadata": {},
   "source": [
    "c) All the records for India."
   ]
  },
  {
   "cell_type": "code",
   "execution_count": 13,
   "id": "1bbb5bab",
   "metadata": {},
   "outputs": [
    {
     "data": {
      "text/plain": [
       "[('Mumbai', 'India', 'Winter', 24.8, 5.9),\n",
       " ('Mumbai', 'India', 'Spring', 28.4, 16.2),\n",
       " ('Mumbai', 'India', 'Summer', 27.9, 1549.4),\n",
       " ('Mumbai', 'India', 'Fall', 27.6, 346.0)]"
      ]
     },
     "execution_count": 13,
     "metadata": {},
     "output_type": "execute_result"
    }
   ],
   "source": [
    "cur.execute('SELECT * FROM CityTBL WHERE Country = \"India\"')\n",
    "cur.fetchall()"
   ]
  },
  {
   "cell_type": "markdown",
   "id": "6dbd25aa",
   "metadata": {},
   "source": [
    "d) All the Fall records."
   ]
  },
  {
   "cell_type": "code",
   "execution_count": 14,
   "id": "44a3116b",
   "metadata": {},
   "outputs": [
    {
     "data": {
      "text/plain": [
       "[('Mumbai', 'India', 'Fall', 27.6, 346.0),\n",
       " ('London', 'United Kindom', 'Fall', 10.4, 218.5),\n",
       " ('Cairo', 'Egypt', 'Fall', 22.2, 4.5)]"
      ]
     },
     "execution_count": 14,
     "metadata": {},
     "output_type": "execute_result"
    }
   ],
   "source": [
    "cur.execute('SELECT * FROM CityTBL WHERE Season=\"Fall\"')\n",
    "cur.fetchall()"
   ]
  },
  {
   "cell_type": "markdown",
   "id": "e83bf589",
   "metadata": {},
   "source": [
    "e) The city, country, and season for which the average rainfall is between 200\n",
    "and 400 millimeters."
   ]
  },
  {
   "cell_type": "code",
   "execution_count": 16,
   "id": "7fd64b82",
   "metadata": {},
   "outputs": [
    {
     "data": {
      "text/plain": [
       "[('Mumbai', 'India', 'Fall'),\n",
       " ('London', 'United Kindom', 'Winter'),\n",
       " ('London', 'United Kindom', 'Fall')]"
      ]
     },
     "execution_count": 16,
     "metadata": {},
     "output_type": "execute_result"
    }
   ],
   "source": [
    "cur.execute('SELECT city, country, season FROM CityTBL WHERE rainfall > 200 AND rainfall < 400')\n",
    "cur.fetchall()"
   ]
  },
  {
   "cell_type": "markdown",
   "id": "a66b914e",
   "metadata": {},
   "source": [
    "f) The city and country for which the average Fall temperature is above 20\n",
    "degrees, in increasing temperature order."
   ]
  },
  {
   "cell_type": "code",
   "execution_count": 18,
   "id": "85f669bb",
   "metadata": {},
   "outputs": [
    {
     "data": {
      "text/plain": [
       "[('Cairo', 'Egypt', 23.53333333333333),\n",
       " ('Mumbai', 'India', 27.174999999999997)]"
      ]
     },
     "execution_count": 18,
     "metadata": {},
     "output_type": "execute_result"
    }
   ],
   "source": [
    "cur.execute('SELECT City, Country, AVG(Temperature) FROM CityTBL where Temperature > 20 GROUP BY City, Country HAVING AVG(Temperature) > 20 ORDER By Temperature ASC')\n",
    "cur.fetchall()"
   ]
  },
  {
   "cell_type": "markdown",
   "id": "9d3bcb30",
   "metadata": {},
   "source": [
    "g) The total annual rainfall for Cairo."
   ]
  },
  {
   "cell_type": "code",
   "execution_count": 22,
   "id": "6e80f69e",
   "metadata": {},
   "outputs": [
    {
     "data": {
      "text/plain": [
       "[(27.6,)]"
      ]
     },
     "execution_count": 22,
     "metadata": {},
     "output_type": "execute_result"
    }
   ],
   "source": [
    "cur.execute('SELECT SUM(rainfall) FROM CityTBL WHERE City = \"Cairo\"')\n",
    "cur.fetchall()"
   ]
  },
  {
   "cell_type": "markdown",
   "id": "6479b9df",
   "metadata": {},
   "source": [
    "h) The total rainfall for each season."
   ]
  },
  {
   "cell_type": "code",
   "execution_count": 23,
   "id": "2e823aaa",
   "metadata": {},
   "outputs": [
    {
     "data": {
      "text/plain": [
       "[(569.0,), (192.29999999999998,), (1706.5,), (230.1,)]"
      ]
     },
     "execution_count": 23,
     "metadata": {},
     "output_type": "execute_result"
    }
   ],
   "source": [
    "cur.execute('SELECT sum(rainfall) FROM CityTBL GROUP BY Season')\n",
    "cur.fetchall()"
   ]
  },
  {
   "cell_type": "markdown",
   "id": "66e29fd2",
   "metadata": {},
   "source": [
    "# Q9"
   ]
  },
  {
   "cell_type": "code",
   "execution_count": 237,
   "id": "8f80bcb6",
   "metadata": {},
   "outputs": [
    {
     "name": "stdout",
     "output_type": "stream",
     "text": [
      "\n",
      "in Upper letters\n",
      " ['THE', 'QUICK', 'BROWN', 'FOX', 'JUMPS', 'OVER', 'THE', 'LAZY', 'DOG']\n",
      "\n",
      "in lower letters\n",
      " ['the', 'quick', 'brown', 'fox', 'jumps', 'over', 'the', 'lazy', 'dog']\n",
      "\n",
      "length of words are\n",
      " [3, 5, 5, 3, 5, 4, 3, 4, 3]\n",
      "\n",
      "Upper lower and length\n",
      " [['THE', 'the', 3], ['QUICK', 'quick', 5], ['BROWN', 'brown', 5], ['FOX', 'fox', 3], ['JUMPS', 'jumps', 5], ['OVER', 'over', 4], ['THE', 'the', 3], ['LAZY', 'lazy', 4], ['DOG', 'dog', 3]]\n",
      "\n",
      "words in list words containing 4 or more characters\n",
      " ['quick', 'brown', 'jumps', 'over', 'lazy']\n"
     ]
    }
   ],
   "source": [
    "def upper_comprehension(p):\n",
    "    return str(p).upper()\n",
    "\n",
    "\n",
    "def lower_comprehension(p):\n",
    "    return str(p).lower()\n",
    "\n",
    "\n",
    "def length_comprehension(p):\n",
    "    return len(str(p))\n",
    "\n",
    "\n",
    "def upper_lower_length_comprehension(p):\n",
    "    return [upper_comprehension(p), lower_comprehension(p), length_comprehension(p)]\n",
    "\n",
    "\n",
    "\n",
    "if __name__ == '__main__':\n",
    "    words = ['The', 'quick', 'brown', 'fox', 'jumps', 'over',\n",
    "             'the', 'lazy', 'dog']\n",
    "\n",
    "    capital = [upper_comprehension(p) for p in words]\n",
    "    print(\"\\nin Upper letters\\n\",capital)\n",
    "    \n",
    "    small = [lower_comprehension(p) for p in words]\n",
    "    print(\"\\nin lower letters\\n\",small)\n",
    "\n",
    "    ln = [length_comprehension(p) for p in words]\n",
    "    print(\"\\nlength of words are\\n\",ln)\n",
    "\n",
    "    capitalsmallLn = [upper_lower_length_comprehension(p) for p in words]\n",
    "    print(\"\\nUpper lower and length\\n\",capitalsmallLn)\n",
    "\n",
    "    greaterThan4 = [p for p in words if len(p) >= 4]\n",
    "    print(\"\\nwords in list words containing 4 or more characters\\n\",greaterThan4)\n",
    "\n",
    "    "
   ]
  },
  {
   "cell_type": "code",
   "execution_count": null,
   "id": "76981dae",
   "metadata": {},
   "outputs": [],
   "source": []
  }
 ],
 "metadata": {
  "kernelspec": {
   "display_name": "Python 3 (ipykernel)",
   "language": "python",
   "name": "python3"
  },
  "language_info": {
   "codemirror_mode": {
    "name": "ipython",
    "version": 3
   },
   "file_extension": ".py",
   "mimetype": "text/x-python",
   "name": "python",
   "nbconvert_exporter": "python",
   "pygments_lexer": "ipython3",
   "version": "3.9.7"
  }
 },
 "nbformat": 4,
 "nbformat_minor": 5
}
